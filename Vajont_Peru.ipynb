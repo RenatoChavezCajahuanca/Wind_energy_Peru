{
  "nbformat": 4,
  "nbformat_minor": 0,
  "metadata": {
    "colab": {
      "private_outputs": true,
      "provenance": [],
      "include_colab_link": true
    },
    "kernelspec": {
      "name": "python3",
      "display_name": "Python 3"
    },
    "language_info": {
      "name": "python"
    }
  },
  "cells": [
    {
      "cell_type": "markdown",
      "metadata": {
        "id": "view-in-github",
        "colab_type": "text"
      },
      "source": [
        "<a href=\"https://colab.research.google.com/github/RenatoChavezCajahuanca/Wind_energy_Peru/blob/main/Vajont_Peru.ipynb\" target=\"_parent\"><img src=\"https://colab.research.google.com/assets/colab-badge.svg\" alt=\"Open In Colab\"/></a>"
      ]
    },
    {
      "cell_type": "markdown",
      "source": [
        "1. Definir el Objetivo:\n",
        "Comparar los deslizamientos de tierra en Vajont y Yungay, Perú, mediante simulaciones y análisis visuales para identificar similitudes y diferencias en sus causas, dinámicas y efectos.\n",
        "2. Estrategia de Desarrollo:\n",
        "Paso 1: Investigación y Recopilación de Datos\n",
        "Buscar datos precisos sobre los deslizamientos de Vajont y Yungay, incluyendo:\n",
        "\n",
        "Tipos de suelo.\n",
        "Dinámicas de movimiento.\n",
        "Características geológicas (arcillas, grietas, niveles freáticos).\n",
        "Factores desencadenantes (lluvias, terremotos, presión hidrostática).\n",
        "Usar fuentes confiables:\n",
        "\n",
        "Artículos científicos y estudios históricos.\n",
        "GitHub: Buscar repositorios relacionados con datos geológicos y deslizamientos.\n",
        "Organismos oficiales: Institutos geológicos (USGS, INGEMMET).\n",
        "Paso 2: Análisis Preliminar de Datos\n",
        "Procesar los datos:\n",
        "\n",
        "Convertir archivos CSV, GeoJSON, o SHP a un formato compatible con Python.\n",
        "Preprocesar usando bibliotecas como pandas y numpy.\n",
        "Visualizar los datos iniciales:\n",
        "\n",
        "Utilizar matplotlib y seaborn para entender las relaciones clave entre las variables (e.g., altura vs. volumen desplazado)."
      ],
      "metadata": {
        "id": "bEaNaVvp5nm5"
      }
    },
    {
      "cell_type": "code",
      "source": [
        "import pandas as pd\n",
        "import numpy as np\n",
        "import matplotlib.pyplot as plt\n",
        "import seaborn as sns\n",
        "from mpl_toolkits.mplot3d import Axes3D\n",
        "from scipy.optimize import curve_fit\n"
      ],
      "metadata": {
        "id": "UdzqXrNp5vfD"
      },
      "execution_count": null,
      "outputs": []
    },
    {
      "cell_type": "code",
      "source": [
        "import shutil\n",
        "\n",
        "# Eliminar la carpeta existente\n",
        "shutil.rmtree(\"FW_Vajont_2019\")\n",
        "\n",
        "print(\"Carpeta eliminada. Ahora podemos clonar el repositorio nuevamente.\")\n"
      ],
      "metadata": {
        "id": "KvPiR9ejE65g"
      },
      "execution_count": null,
      "outputs": []
    },
    {
      "cell_type": "code",
      "source": [
        "!git clone https://github.com/fischanger/FW_Vajont_2019.git\n"
      ],
      "metadata": {
        "id": "fJsYx05DE860"
      },
      "execution_count": null,
      "outputs": []
    },
    {
      "cell_type": "code",
      "source": [
        "import os\n",
        "\n",
        "# Listar contenido principal del repositorio\n",
        "contenido_principal = os.listdir(\"FW_Vajont_2019\")\n",
        "print(\"Contenido del repositorio:\", contenido_principal)\n"
      ],
      "metadata": {
        "id": "hglbXBINFLsS"
      },
      "execution_count": null,
      "outputs": []
    },
    {
      "cell_type": "code",
      "source": [
        "# Listar el contenido de la carpeta DTM\n",
        "contenido_dtm = os.listdir(\"FW_Vajont_2019/DTM\")\n",
        "print(\"Contenido de la carpeta DTM:\", contenido_dtm)\n"
      ],
      "metadata": {
        "id": "Fv88j7-2FXHn"
      },
      "execution_count": null,
      "outputs": []
    },
    {
      "cell_type": "code",
      "source": [
        "# Instalar py7zr para manejar archivos .7z\n",
        "!pip install py7zr\n"
      ],
      "metadata": {
        "id": "ojSfNOiQFfzA"
      },
      "execution_count": null,
      "outputs": []
    },
    {
      "cell_type": "code",
      "source": [
        "import py7zr\n",
        "\n",
        "# Ruta del archivo .7z\n",
        "ruta_dtm_7z = \"FW_Vajont_2019/DTM/dtm.2x2.area2.xyz.7z\"\n",
        "\n",
        "# Ruta para extraer los datos\n",
        "ruta_dtm_extraida = \"FW_Vajont_2019/DTM/extraida\"\n",
        "\n",
        "# Extraer el contenido\n",
        "with py7zr.SevenZipFile(ruta_dtm_7z, mode='r') as z:\n",
        "    z.extractall(path=ruta_dtm_extraida)\n",
        "\n",
        "# Listar los archivos extraídos\n",
        "contenido_extraido = os.listdir(ruta_dtm_extraida)\n",
        "print(\"Contenido extraído de DTM:\", contenido_extraido)\n"
      ],
      "metadata": {
        "id": "7vljFaLdFnWa"
      },
      "execution_count": null,
      "outputs": []
    },
    {
      "cell_type": "code",
      "source": [
        "# Ruta del archivo extraído\n",
        "ruta_xyz = os.path.join(ruta_dtm_extraida, \"dtm.2x2.area2.xyz\")\n",
        "\n",
        "# Leer el archivo .xyz\n",
        "import pandas as pd\n",
        "\n",
        "# Cargar datos (separados por espacios o tabulaciones)\n",
        "dtm_data = pd.read_csv(ruta_xyz, delim_whitespace=True, header=None, names=[\"X\", \"Y\", \"Z\"])\n",
        "\n",
        "# Mostrar las primeras filas\n",
        "print(\"Primeras filas del archivo DTM:\")\n",
        "print(dtm_data.head())\n"
      ],
      "metadata": {
        "id": "CJ0ZjeTGFyo-"
      },
      "execution_count": null,
      "outputs": []
    },
    {
      "cell_type": "code",
      "source": [
        "import matplotlib.pyplot as plt\n",
        "from mpl_toolkits.mplot3d import Axes3D\n",
        "\n",
        "# Crear figura 3D\n",
        "fig = plt.figure(figsize=(10, 7))\n",
        "ax = fig.add_subplot(111, projection='3d')\n",
        "\n",
        "# Graficar el modelo digital del terreno\n",
        "ax.scatter(dtm_data[\"X\"], dtm_data[\"Y\"], dtm_data[\"Z\"], c=dtm_data[\"Z\"], cmap='terrain', s=1)\n",
        "\n",
        "# Etiquetas y título\n",
        "ax.set_title(\"Modelo Digital del Terreno (DTM)\")\n",
        "ax.set_xlabel(\"Coordenada X\")\n",
        "ax.set_ylabel(\"Coordenada Y\")\n",
        "ax.set_zlabel(\"Elevación Z\")\n",
        "\n",
        "plt.show()\n"
      ],
      "metadata": {
        "id": "No6oLUN_F7BW"
      },
      "execution_count": null,
      "outputs": []
    },
    {
      "cell_type": "code",
      "source": [
        "import pandas as pd\n",
        "import os\n",
        "\n",
        "# Ruta del archivo descomprimido (ajusta según tu estructura de archivos)\n",
        "ruta_archivo_xyz = \"FW_Vajont_2019/DTM/extraida/dtm.2x2.area2.xyz\"\n",
        "\n",
        "# Cargar datos desde el archivo .xyz\n",
        "try:\n",
        "    dtm_data = pd.read_csv(ruta_archivo_xyz, delim_whitespace=True, header=None, names=[\"X\", \"Y\", \"Z\"])\n",
        "    print(\"Archivo cargado exitosamente. Primeras filas:\")\n",
        "    print(dtm_data.head())\n",
        "except FileNotFoundError:\n",
        "    print(f\"Error: El archivo '{ruta_archivo_xyz}' no se encuentra. Revisa la ruta.\")\n"
      ],
      "metadata": {
        "id": "9VRUaCZIhBdO"
      },
      "execution_count": null,
      "outputs": []
    },
    {
      "cell_type": "code",
      "source": [
        "import numpy as np\n",
        "from scipy.interpolate import griddata\n",
        "\n",
        "# Crear mallas para X, Y y Z\n",
        "grid_x, grid_y = np.meshgrid(\n",
        "    np.linspace(dtm_data[\"X\"].min(), dtm_data[\"X\"].max(), 100),\n",
        "    np.linspace(dtm_data[\"Y\"].min(), dtm_data[\"Y\"].max(), 100)\n",
        ")\n",
        "\n",
        "# Interpolación de los valores de Z\n",
        "grid_z = griddata(\n",
        "    (dtm_data[\"X\"], dtm_data[\"Y\"]),  # Puntos originales\n",
        "    dtm_data[\"Z\"],                  # Valores de Z originales\n",
        "    (grid_x, grid_y),               # Puntos de la malla\n",
        "    method=\"linear\"                 # Método de interpolación: 'linear', 'nearest', 'cubic'\n",
        ")\n",
        "\n",
        "print(\"Mallas creadas exitosamente.\")\n",
        "print(f\"Dimensiones de grid_x: {grid_x.shape}\")\n",
        "print(f\"Dimensiones de grid_y: {grid_y.shape}\")\n",
        "print(f\"Dimensiones de grid_z: {grid_z.shape}\")\n"
      ],
      "metadata": {
        "id": "yhjTuXg3hGn0"
      },
      "execution_count": null,
      "outputs": []
    },
    {
      "cell_type": "code",
      "source": [
        "import plotly.graph_objects as go\n",
        "import numpy as np\n",
        "\n",
        "# Crear la figura interactiva con Plotly\n",
        "fig = go.Figure()\n",
        "\n",
        "# Añadir la superficie a la figura\n",
        "# Usar una colorescale válida de Plotly (ejemplo: 'Viridis')\n",
        "fig.add_trace(go.Surface(\n",
        "    z=grid_z,\n",
        "    x=grid_x,\n",
        "    y=grid_y,\n",
        "    colorscale='Viridis',  # Colorescale válida\n",
        "    colorbar=dict(title=\"Elevación Z (metros)\"),\n",
        "    showscale=True\n",
        "))\n",
        "\n",
        "# Configurar etiquetas y título\n",
        "fig.update_layout(\n",
        "    title=\"Modelo Digital del Terreno (Interactivo)\",\n",
        "    scene=dict(\n",
        "        xaxis_title=\"Coordenada X\",\n",
        "        yaxis_title=\"Coordenada Y\",\n",
        "        zaxis_title=\"Elevación Z\"\n",
        "    )\n",
        ")\n",
        "\n",
        "# Mostrar la figura interactiva\n",
        "fig.show()\n"
      ],
      "metadata": {
        "id": "GQ3_rdYBaTjB"
      },
      "execution_count": null,
      "outputs": []
    },
    {
      "cell_type": "code",
      "source": [
        "# Ruta del archivo CSV de salida\n",
        "ruta_csv = \"modelo_digital_terreno.csv\"\n",
        "\n",
        "# Guardar los datos en formato CSV\n",
        "try:\n",
        "    dtm_data.to_csv(ruta_csv, index=False)\n",
        "    print(f\"Modelo digital del terreno guardado como: {ruta_csv}\")\n",
        "except Exception as e:\n",
        "    print(f\"Error al guardar el archivo CSV: {e}\")\n"
      ],
      "metadata": {
        "id": "lrOGURFVax2v"
      },
      "execution_count": null,
      "outputs": []
    },
    {
      "cell_type": "code",
      "source": [
        "import plotly.graph_objects as go\n",
        "import numpy as np\n",
        "\n",
        "# Crear la figura interactiva con Plotly\n",
        "fig = go.Figure()\n",
        "\n",
        "# Añadir la superficie del terreno\n",
        "fig.add_trace(go.Surface(\n",
        "    z=grid_z,\n",
        "    x=grid_x,\n",
        "    y=grid_y,\n",
        "    colorscale='Viridis',\n",
        "    colorbar=dict(title=\"Elevación Z (metros)\"),\n",
        "    showscale=True\n",
        "))\n",
        "\n",
        "# Anotaciones en el espacio 3D\n",
        "anotaciones = [\n",
        "    dict(\n",
        "        x=grid_x[50, 50], y=grid_y[50, 50], z=grid_z[50, 50],  # Coordenadas dentro del rango\n",
        "        text=\"Área de desplazamiento\",                         # Texto de la anotación\n",
        "        showarrow=True,\n",
        "        arrowhead=2,\n",
        "        ax=0, ay=0,                                            # Ajuste de la flecha\n",
        "        arrowcolor=\"black\",\n",
        "        font=dict(color=\"black\", size=12, family=\"Arial\")\n",
        "    ),\n",
        "    dict(\n",
        "        x=grid_x[99, 99], y=grid_y[99, 99], z=grid_z[99, 99],  # Último índice válido\n",
        "        text=\"Zona estable\",\n",
        "        showarrow=True,\n",
        "        arrowhead=2,\n",
        "        ax=0, ay=0,\n",
        "        arrowcolor=\"red\",\n",
        "        font=dict(color=\"red\", size=12, family=\"Arial\")\n",
        "    )\n",
        "]\n",
        "\n",
        "# Añadir las anotaciones a la escena\n",
        "fig.update_layout(\n",
        "    title=\"Modelo Digital del Terreno con Leyendas\",\n",
        "    scene=dict(\n",
        "        xaxis_title=\"Coordenada X\",\n",
        "        yaxis_title=\"Coordenada Y\",\n",
        "        zaxis_title=\"Elevación Z\",\n",
        "        annotations=anotaciones  # Mover anotaciones a la escena\n",
        "    )\n",
        ")\n",
        "\n",
        "# Mostrar la figura interactiva\n",
        "fig.show()\n"
      ],
      "metadata": {
        "id": "NFoy4sQCcsn5"
      },
      "execution_count": null,
      "outputs": []
    },
    {
      "cell_type": "code",
      "source": [],
      "metadata": {
        "id": "KLJ2OYTfdrUI"
      },
      "execution_count": null,
      "outputs": []
    },
    {
      "cell_type": "code",
      "source": [
        "# Calcular estadísticas básicas de la elevación\n",
        "print(\"Estadísticas de elevación (Z):\")\n",
        "print(f\"Mínimo: {dtm_data['Z'].min()} metros\")\n",
        "print(f\"Máximo: {dtm_data['Z'].max()} metros\")\n",
        "print(f\"Promedio: {dtm_data['Z'].mean()} metros\")\n",
        "\n",
        "# Buscar valores que podrían indicar zonas de desprendimiento\n",
        "# Por ejemplo, valores significativamente bajos\n",
        "zona_desprendimiento = dtm_data[dtm_data['Z'] < dtm_data['Z'].mean() - 100]\n",
        "print(f\"Número de puntos con anomalías: {len(zona_desprendimiento)}\")\n",
        "print(\"Ejemplo de puntos con posibles desprendimientos:\")\n",
        "print(zona_desprendimiento.head())\n"
      ],
      "metadata": {
        "id": "YfOcV8yievpy"
      },
      "execution_count": null,
      "outputs": []
    },
    {
      "cell_type": "code",
      "source": [
        "import plotly.graph_objects as go\n",
        "\n",
        "# Crear una máscara para las zonas de desprendimiento (valores bajos de Z)\n",
        "zona_desprendimiento = grid_z < grid_z.mean() - 100  # Ajusta el umbral según tus datos\n",
        "\n",
        "# Crear la figura\n",
        "fig = go.Figure()\n",
        "\n",
        "# Superficie principal del terreno\n",
        "fig.add_trace(go.Surface(\n",
        "    z=grid_z,\n",
        "    x=grid_x,\n",
        "    y=grid_y,\n",
        "    colorscale='Viridis',\n",
        "    colorbar=dict(title=\"Elevación Z (metros)\"),\n",
        "    showscale=True\n",
        "))\n",
        "\n",
        "# Superponer las zonas de desprendimiento en otro color (ejemplo: rojo)\n",
        "fig.add_trace(go.Surface(\n",
        "    z=grid_z,  # Mismo terreno\n",
        "    x=grid_x,\n",
        "    y=grid_y,\n",
        "    surfacecolor=zona_desprendimiento.astype(int),  # Resaltar zonas desplazadas\n",
        "    colorscale=[[0, 'rgba(0, 0, 0, 0)'], [1, 'red']],  # Colores: transparente y rojo\n",
        "    showscale=False\n",
        "))\n",
        "\n",
        "# Título y etiquetas\n",
        "fig.update_layout(\n",
        "    title=\"Modelo Digital del Terreno con Zonas Desplazadas\",\n",
        "    scene=dict(\n",
        "        xaxis_title=\"Coordenada X\",\n",
        "        yaxis_title=\"Coordenada Y\",\n",
        "        zaxis_title=\"Elevación Z\"\n",
        "    )\n",
        ")\n",
        "\n",
        "# Mostrar la figura interactiva\n",
        "fig.show()\n"
      ],
      "metadata": {
        "id": "VmEv3tLveyoJ"
      },
      "execution_count": null,
      "outputs": []
    },
    {
      "cell_type": "code",
      "source": [
        "import matplotlib.pyplot as plt\n",
        "\n",
        "# Crear la figura\n",
        "fig = plt.figure(figsize=(10, 7))\n",
        "ax = fig.add_subplot(111, projection='3d')\n",
        "\n",
        "# Superficie del terreno\n",
        "surf = ax.plot_surface(grid_x, grid_y, grid_z, cmap='terrain', edgecolor='none')\n",
        "\n",
        "# Añadir puntos de las zonas de desprendimiento\n",
        "ax.scatter(\n",
        "    grid_x[zona_desprendimiento], grid_y[zona_desprendimiento], grid_z[zona_desprendimiento],\n",
        "    color='red', label='Zonas Desprendidas', s=10\n",
        ")\n",
        "\n",
        "# Etiquetas\n",
        "ax.set_title(\"Modelo Digital del Terreno con Zonas Desplazadas\")\n",
        "ax.set_xlabel(\"Coordenada X\")\n",
        "ax.set_ylabel(\"Coordenada Y\")\n",
        "ax.set_zlabel(\"Elevación Z\")\n",
        "\n",
        "# Barra de color y leyenda\n",
        "cbar = fig.colorbar(surf, ax=ax, shrink=0.5, aspect=10)\n",
        "cbar.set_label(\"Elevación Z (metros)\")\n",
        "plt.legend()\n",
        "\n",
        "plt.show()\n"
      ],
      "metadata": {
        "id": "OFWzKdZ0e4UQ"
      },
      "execution_count": null,
      "outputs": []
    },
    {
      "cell_type": "code",
      "source": [
        "import plotly.graph_objects as go\n",
        "import numpy as np\n",
        "\n",
        "# Crear la figura interactiva con Plotly\n",
        "fig = go.Figure()\n",
        "\n",
        "# Identificar zonas desplazadas: valores de Z más bajos que el promedio menos un umbral\n",
        "umbral_desprendimiento = 100  # Ajusta este valor según el análisis de tus datos\n",
        "zona_desprendimiento = grid_z < (grid_z.mean() - umbral_desprendimiento)  # Máscara booleana\n",
        "\n",
        "# Añadir la superficie principal del terreno\n",
        "fig.add_trace(go.Surface(\n",
        "    z=grid_z,\n",
        "    x=grid_x,\n",
        "    y=grid_y,\n",
        "    colorscale='Viridis',\n",
        "    colorbar=dict(title=\"Elevación Z (metros)\"),\n",
        "    showscale=True,\n",
        "    opacity=0.8  # Hacer la superficie semitransparente para mejor visualización\n",
        "))\n",
        "\n",
        "# Añadir las zonas desplazadas en color rojo\n",
        "fig.add_trace(go.Surface(\n",
        "    z=grid_z,  # Mismo terreno\n",
        "    x=grid_x,\n",
        "    y=grid_y,\n",
        "    surfacecolor=zona_desprendimiento.astype(int),  # 1 para zonas desplazadas\n",
        "    colorscale=[[0, 'rgba(0, 0, 0, 0)'], [1, 'red']],  # Transparente y rojo\n",
        "    showscale=False,  # No mostrar la escala de color para las zonas\n",
        "    opacity=1  # Totalmente opaco para resaltar\n",
        "))\n",
        "\n",
        "# Configurar etiquetas y título\n",
        "fig.update_layout(\n",
        "    title=\"Modelo Digital del Terreno con Zonas Desplazadas (Rojo)\",\n",
        "    scene=dict(\n",
        "        xaxis_title=\"Coordenada X\",\n",
        "        yaxis_title=\"Coordenada Y\",\n",
        "        zaxis_title=\"Elevación Z\"\n",
        "    )\n",
        ")\n",
        "\n",
        "# Mostrar la figura interactiva\n",
        "fig.show()\n"
      ],
      "metadata": {
        "id": "ehbMG0lVfE8b"
      },
      "execution_count": null,
      "outputs": []
    },
    {
      "cell_type": "code",
      "source": [],
      "metadata": {
        "id": "buQR4Qe0fcJE"
      },
      "execution_count": null,
      "outputs": []
    },
    {
      "cell_type": "code",
      "source": [
        "# Coordenadas calculadas o ajustadas según el sistema del modelo\n",
        "presa_x = 2316500  # Ejemplo aproximado basado en el modelo\n",
        "presa_y = 5127500\n",
        "presa_z = grid_z.min() + 50  # Ajustar según la elevación mínima del modelo\n",
        "\n",
        "# Añadir marcador al modelo interactivo\n",
        "fig.add_trace(go.Scatter3d(\n",
        "    x=[presa_x], y=[presa_y], z=[presa_z],\n",
        "    mode='markers+text',\n",
        "    marker=dict(size=10, color='blue'),\n",
        "    text=[\"Presa de Vajont\"],\n",
        "    textposition=\"top center\",\n",
        "    name=\"Presa\"\n",
        "))\n"
      ],
      "metadata": {
        "id": "G3afcFoXjEu7"
      },
      "execution_count": null,
      "outputs": []
    },
    {
      "cell_type": "code",
      "source": [
        "print(\"Rangos del modelo:\")\n",
        "print(f\"Rango de X: {grid_x.min()} a {grid_x.max()}\")\n",
        "print(f\"Rango de Y: {grid_y.min()} a {grid_y.max()}\")\n",
        "print(f\"Rango de Z: {grid_z.min()} a {grid_z.max()}\")\n"
      ],
      "metadata": {
        "id": "9Wn66QSijdqi"
      },
      "execution_count": null,
      "outputs": []
    },
    {
      "cell_type": "code",
      "source": [
        "# Coordenadas ajustadas para la presa\n",
        "presa_x = 2316500  # Cercano al límite superior de X\n",
        "presa_y = 5127500  # Cercano al límite superior de Y\n",
        "presa_z = grid_z.min() + 50  # Elevación baja para mayor visibilidad\n"
      ],
      "metadata": {
        "id": "8QHEoSAPnTIn"
      },
      "execution_count": null,
      "outputs": []
    },
    {
      "cell_type": "code",
      "source": [
        "# Añadir marcador para la presa al modelo interactivo\n",
        "fig.add_trace(go.Scatter3d(\n",
        "    x=[presa_x],\n",
        "    y=[presa_y],\n",
        "    z=[presa_z],\n",
        "    mode='markers+text',\n",
        "    marker=dict(size=12, color='blue'),\n",
        "    text=[\"Presa de Vajont\"],\n",
        "    textposition=\"top center\",\n",
        "    name=\"Presa\"\n",
        "))\n",
        "\n",
        "# Mostrar el modelo\n",
        "fig.show()\n"
      ],
      "metadata": {
        "id": "RLnEfpWRnVmx"
      },
      "execution_count": null,
      "outputs": []
    },
    {
      "cell_type": "code",
      "source": [],
      "metadata": {
        "id": "qq1o1xjJoG4Z"
      },
      "execution_count": null,
      "outputs": []
    },
    {
      "cell_type": "code",
      "source": [
        "import plotly.graph_objects as go\n",
        "\n",
        "# Coordenadas ajustadas\n",
        "presa_x = grid_x[-1, -1]\n",
        "presa_y = grid_y[-1, -1]\n",
        "presa_z = grid_z[-1, -1] + 50\n",
        "\n",
        "# Crear figura interactiva\n",
        "fig = go.Figure()\n",
        "\n",
        "# Añadir superficie del terreno\n",
        "fig.add_trace(go.Surface(\n",
        "    z=grid_z,\n",
        "    x=grid_x,\n",
        "    y=grid_y,\n",
        "    colorscale='Viridis',\n",
        "    colorbar=dict(title=\"Elevación Z (metros)\")\n",
        "))\n",
        "\n",
        "# Añadir un único marcador para la presa\n",
        "fig.add_trace(go.Scatter3d(\n",
        "    x=[presa_x],\n",
        "    y=[presa_y],\n",
        "    z=[presa_z],\n",
        "    mode='markers+text',\n",
        "    marker=dict(size=12, color='blue'),\n",
        "    text=[\"Presa de Vajont\"],\n",
        "    textposition=\"top center\",\n",
        "    name=\"Presa\"\n",
        "))\n",
        "\n",
        "# Mostrar el modelo\n",
        "fig.update_layout(\n",
        "    title=\"Modelo Digital del Terreno con la Presa de Vajont\",\n",
        "    scene=dict(\n",
        "        xaxis_title=\"Coordenada X\",\n",
        "        yaxis_title=\"Coordenada Y\",\n",
        "        zaxis_title=\"Elevación Z\"\n",
        "    )\n",
        ")\n",
        "fig.show()\n"
      ],
      "metadata": {
        "id": "EiLYEKHrpFlY"
      },
      "execution_count": null,
      "outputs": []
    },
    {
      "cell_type": "code",
      "source": [
        "import plotly.graph_objects as go\n",
        "\n",
        "# Coordenadas ajustadas\n",
        "presa_x = grid_x[-1, -1]\n",
        "presa_y = grid_y[-1, -1]\n",
        "presa_z = grid_z[-1, -1] + 50\n",
        "\n",
        "# Crear la figura interactiva\n",
        "fig = go.Figure()\n",
        "\n",
        "# Añadir superficie del terreno\n",
        "fig.add_trace(go.Surface(\n",
        "    z=grid_z,\n",
        "    x=grid_x,\n",
        "    y=grid_y,\n",
        "    colorscale='Viridis',\n",
        "    colorbar=dict(title=\"Elevación Z (metros)\")\n",
        "))\n",
        "\n",
        "# Añadir un único marcador para la presa\n",
        "fig.add_trace(go.Scatter3d(\n",
        "    x=[presa_x],\n",
        "    y=[presa_y],\n",
        "    z=[presa_z],\n",
        "    mode='markers+text',\n",
        "    marker=dict(size=12, color='blue'),\n",
        "    text=[\"Presa de Vajont\"],\n",
        "    textposition=\"top center\",\n",
        "    name=\"Presa\"\n",
        "))\n",
        "\n",
        "# Configurar el diseño\n",
        "fig.update_layout(\n",
        "    title=\"Modelo Digital del Terreno con la Presa de Vajont\",\n",
        "    scene=dict(\n",
        "        xaxis_title=\"Coordenada X\",\n",
        "        yaxis_title=\"Coordenada Y\",\n",
        "        zaxis_title=\"Elevación Z\"\n",
        "    )\n",
        ")\n",
        "\n",
        "# Mostrar el modelo\n",
        "fig.show()\n"
      ],
      "metadata": {
        "id": "vv_LEYM7pfN9"
      },
      "execution_count": null,
      "outputs": []
    },
    {
      "cell_type": "code",
      "source": [
        "# Coordenadas actuales de la presa\n",
        "print(\"Coordenadas del marcador de la presa:\")\n",
        "print(f\"Presa X: {presa_x}\")\n",
        "print(f\"Presa Y: {presa_y}\")\n",
        "print(f\"Presa Z: {presa_z}\")\n",
        "\n",
        "# Rango del modelo\n",
        "print(\"Rango del modelo:\")\n",
        "print(f\"Rango de X: {grid_x.min()} a {grid_x.max()}\")\n",
        "print(f\"Rango de Y: {grid_y.min()} a {grid_y.max()}\")\n",
        "print(f\"Rango de Z: {grid_z.min()} a {grid_z.max()}\")\n"
      ],
      "metadata": {
        "id": "weIWU4GCvMZT"
      },
      "execution_count": null,
      "outputs": []
    },
    {
      "cell_type": "code",
      "source": [
        "# Visualizar las primeras filas de grid_x, grid_y, grid_z\n",
        "print(\"Primeros valores de grid_x:\")\n",
        "print(grid_x[:5, :5])\n",
        "\n",
        "print(\"Primeros valores de grid_y:\")\n",
        "print(grid_y[:5, :5])\n",
        "\n",
        "print(\"Primeros valores de grid_z:\")\n",
        "print(grid_z[:5, :5])\n"
      ],
      "metadata": {
        "id": "AVjZQo7FvYUb"
      },
      "execution_count": null,
      "outputs": []
    },
    {
      "cell_type": "code",
      "source": [
        "import plotly.graph_objects as go\n",
        "import numpy as np\n",
        "\n",
        "# Coordenadas ajustadas de la presa\n",
        "presa_x = grid_x[-1, -1]  # Último valor en X (extremo derecho del modelo)\n",
        "presa_y = grid_y[-1, -1]  # Último valor en Y (extremo superior del modelo)\n",
        "presa_z = grid_z[-1, -1] + 50  # Elevado ligeramente para visibilidad\n",
        "\n",
        "# Verificar coordenadas de la presa\n",
        "print(\"Coordenadas del marcador de la presa:\")\n",
        "print(f\"Presa X: {presa_x}\")\n",
        "print(f\"Presa Y: {presa_y}\")\n",
        "print(f\"Presa Z: {presa_z}\")\n",
        "\n",
        "# Crear la figura interactiva\n",
        "fig = go.Figure()\n",
        "\n",
        "# Añadir superficie del terreno\n",
        "fig.add_trace(go.Surface(\n",
        "    z=grid_z,\n",
        "    x=grid_x,\n",
        "    y=grid_y,\n",
        "    colorscale='Viridis',  # Escala de colores para representar elevaciones\n",
        "    colorbar=dict(title=\"Elevación Z (metros)\")\n",
        "))\n",
        "\n",
        "# Añadir un marcador único para la presa\n",
        "fig.add_trace(go.Scatter3d(\n",
        "    x=[presa_x],  # Coordenada X de la presa\n",
        "    y=[presa_y],  # Coordenada Y de la presa\n",
        "    z=[presa_z],  # Coordenada Z de la presa (ajustada para visibilidad)\n",
        "    mode='markers+text',\n",
        "    marker=dict(size=12, color='blue'),  # Tamaño y color del marcador\n",
        "    text=[\"Presa de Vajont\"],  # Texto de la etiqueta\n",
        "    textposition=\"top center\",\n",
        "    name=\"Presa\"\n",
        "))\n",
        "\n",
        "# Configurar el diseño\n",
        "fig.update_layout(\n",
        "    title=\"Modelo Digital del Terreno con la Presa de Vajont\",\n",
        "    scene=dict(\n",
        "        xaxis_title=\"Coordenada X\",\n",
        "        yaxis_title=\"Coordenada Y\",\n",
        "        zaxis_title=\"Elevación Z\"\n",
        "    )\n",
        ")\n",
        "\n",
        "# Mostrar el modelo interactivo\n",
        "fig.show()\n"
      ],
      "metadata": {
        "id": "n_IKaSB7vyA-"
      },
      "execution_count": null,
      "outputs": []
    },
    {
      "cell_type": "code",
      "source": [],
      "metadata": {
        "id": "7FpTVHuOwJa1"
      },
      "execution_count": null,
      "outputs": []
    },
    {
      "cell_type": "code",
      "source": [
        "# Verificar los datos del terreno\n",
        "print(\"Primeros valores de grid_x:\")\n",
        "print(grid_x[:5, :5])\n",
        "\n",
        "print(\"Primeros valores de grid_y:\")\n",
        "print(grid_y[:5, :5])\n",
        "\n",
        "print(\"Primeros valores de grid_z:\")\n",
        "print(grid_z[:5, :5])\n",
        "\n",
        "# Verificar el rango del terreno\n",
        "print(\"Rango de los datos:\")\n",
        "print(f\"X: {grid_x.min()} a {grid_x.max()}\")\n",
        "print(f\"Y: {grid_y.min()} a {grid_y.max()}\")\n",
        "print(f\"Z: {grid_z.min()} a {grid_z.max()}\")\n"
      ],
      "metadata": {
        "id": "N0IpYH-4wJy2"
      },
      "execution_count": null,
      "outputs": []
    },
    {
      "cell_type": "code",
      "source": [
        "import plotly.graph_objects as go\n",
        "\n",
        "# Crear figura interactiva del terreno\n",
        "fig = go.Figure()\n",
        "\n",
        "# Añadir superficie del terreno\n",
        "fig.add_trace(go.Surface(\n",
        "    z=grid_z,\n",
        "    x=grid_x,\n",
        "    y=grid_y,\n",
        "    colorscale='Viridis',  # Escala de colores para la elevación\n",
        "    colorbar=dict(title=\"Elevación Z (metros)\")\n",
        "))\n",
        "\n",
        "# Configurar diseño básico\n",
        "fig.update_layout(\n",
        "    title=\"Modelo Digital del Terreno\",\n",
        "    scene=dict(\n",
        "        xaxis_title=\"Coordenada X\",\n",
        "        yaxis_title=\"Coordenada Y\",\n",
        "        zaxis_title=\"Elevación Z\"\n",
        "    )\n",
        ")\n",
        "\n",
        "# Mostrar el modelo\n",
        "fig.show()\n"
      ],
      "metadata": {
        "id": "LdSAK0_8wMor"
      },
      "execution_count": null,
      "outputs": []
    },
    {
      "cell_type": "code",
      "source": [
        "presa_x = grid_x[-1, -1]  # Último valor en X\n",
        "presa_y = grid_y[-1, -1]  # Último valor en Y\n",
        "presa_z = grid_z[-1, -1] + 50  # Elevar un poco para visibilidad\n"
      ],
      "metadata": {
        "id": "Q9RMHnB9wS6z"
      },
      "execution_count": null,
      "outputs": []
    },
    {
      "cell_type": "code",
      "source": [
        "print(\"Coordenadas del marcador de la presa:\")\n",
        "print(f\"Presa X: {presa_x}\")\n",
        "print(f\"Presa Y: {presa_y}\")\n",
        "print(f\"Presa Z: {presa_z}\")\n"
      ],
      "metadata": {
        "id": "UgYiD9vBwWAK"
      },
      "execution_count": null,
      "outputs": []
    },
    {
      "cell_type": "code",
      "source": [
        "# Añadir marcador único para la presa\n",
        "fig.add_trace(go.Scatter3d(\n",
        "    x=[presa_x],  # Coordenada X de la presa\n",
        "    y=[presa_y],  # Coordenada Y de la presa\n",
        "    z=[presa_z],  # Coordenada Z de la presa\n",
        "    mode='markers+text',\n",
        "    marker=dict(size=12, color='blue'),  # Tamaño y color del marcador\n",
        "    text=[\"Presa de Vajont\"],  # Texto de la etiqueta\n",
        "    textposition=\"top center\",\n",
        "    name=\"Presa\"\n",
        "))\n",
        "\n",
        "# Mostrar el modelo actualizado\n",
        "fig.show()\n"
      ],
      "metadata": {
        "id": "o3d7JlUbwcZa"
      },
      "execution_count": null,
      "outputs": []
    },
    {
      "cell_type": "code",
      "source": [],
      "metadata": {
        "id": "mWFtFf5Ewv_g"
      },
      "execution_count": null,
      "outputs": []
    },
    {
      "cell_type": "code",
      "source": [
        "# Generar el modelo del terreno\n",
        "fig = go.Figure()\n",
        "\n",
        "# Superficie del terreno\n",
        "fig.add_trace(go.Surface(\n",
        "    z=grid_z,\n",
        "    x=grid_x,\n",
        "    y=grid_y,\n",
        "    colorscale='Viridis',\n",
        "    colorbar=dict(title=\"Elevación Z (metros)\")\n",
        "))\n",
        "\n",
        "# Marcador para la presa\n",
        "fig.add_trace(go.Scatter3d(\n",
        "    x=[presa_x],\n",
        "    y=[presa_y],\n",
        "    z=[presa_z],\n",
        "    mode='markers+text',\n",
        "    marker=dict(size=12, color='blue'),\n",
        "    text=[\"Presa de Vajont\"],\n",
        "    textposition=\"top center\",\n",
        "    name=\"Presa\"\n",
        "))\n",
        "\n",
        "# Configurar el diseño del gráfico\n",
        "fig.update_layout(\n",
        "    title=\"Modelo Digital del Terreno con la Presa de Vajont\",\n",
        "    scene=dict(\n",
        "        xaxis_title=\"Coordenada X\",\n",
        "        yaxis_title=\"Coordenada Y\",\n",
        "        zaxis_title=\"Elevación Z\"\n",
        "    )\n",
        ")\n",
        "\n",
        "# Mostrar el modelo\n",
        "fig.show()\n"
      ],
      "metadata": {
        "id": "89FJjhMOwwNc"
      },
      "execution_count": null,
      "outputs": []
    },
    {
      "cell_type": "code",
      "source": [
        "import os\n",
        "\n",
        "# Listar contenido principal del repositorio\n",
        "contenido_principal = os.listdir(\"FW_Vajont_2019\")\n",
        "print(\"Contenido del repositorio principal:\", contenido_principal)\n",
        "\n",
        "# Listar el contenido de la carpeta DTM\n",
        "contenido_dtm = os.listdir(\"FW_Vajont_2019/DTM\")\n",
        "print(\"Contenido de la carpeta DTM:\", contenido_dtm)\n",
        "\n",
        "# Listar el contenido de la carpeta topography\n",
        "contenido_topography = os.listdir(\"FW_Vajont_2019/topography\")\n",
        "print(\"Contenido de la carpeta topography:\", contenido_topography)\n"
      ],
      "metadata": {
        "id": "Jt-C_HZ0xJAv"
      },
      "execution_count": null,
      "outputs": []
    },
    {
      "cell_type": "code",
      "source": [
        "# Confirmar las dimensiones y rangos de las matrices\n",
        "print(\"Dimensiones y rangos del modelo:\")\n",
        "print(f\"grid_x: Forma = {grid_x.shape}, Min = {grid_x.min()}, Max = {grid_x.max()}\")\n",
        "print(f\"grid_y: Forma = {grid_y.shape}, Min = {grid_y.min()}, Max = {grid_y.max()}\")\n",
        "print(f\"grid_z: Forma = {grid_z.shape}, Min = {grid_z.min()}, Max = {grid_z.max()}\")\n",
        "\n",
        "# Confirmar ubicación del marcador\n",
        "print(\"Coordenadas del marcador de la presa:\")\n",
        "print(f\"Presa X: {presa_x}\")\n",
        "print(f\"Presa Y: {presa_y}\")\n",
        "print(f\"Presa Z: {presa_z}\")\n"
      ],
      "metadata": {
        "id": "8a0_WFCBxM32"
      },
      "execution_count": null,
      "outputs": []
    },
    {
      "cell_type": "code",
      "source": [
        "# Ajustar la ubicación del marcador\n",
        "presa_x = grid_x[-10, -10]  # Coordenada cercana al borde en X\n",
        "presa_y = grid_y[-10, -10]  # Coordenada cercana al borde en Y\n",
        "presa_z = grid_z[-10, -10] + 10  # Elevar un poco para visibilidad\n",
        "print(f\"Nuevas coordenadas de la presa: ({presa_x}, {presa_y}, {presa_z})\")\n"
      ],
      "metadata": {
        "id": "l7xTViUrxPsM"
      },
      "execution_count": null,
      "outputs": []
    },
    {
      "cell_type": "code",
      "source": [
        "# Crear figura interactiva\n",
        "fig = go.Figure()\n",
        "\n",
        "# Superficie del terreno\n",
        "fig.add_trace(go.Surface(\n",
        "    z=grid_z,\n",
        "    x=grid_x,\n",
        "    y=grid_y,\n",
        "    colorscale='Viridis',\n",
        "    colorbar=dict(title=\"Elevación Z (metros)\")\n",
        "))\n",
        "\n",
        "# Marcador de la presa\n",
        "fig.add_trace(go.Scatter3d(\n",
        "    x=[presa_x],\n",
        "    y=[presa_y],\n",
        "    z=[presa_z],\n",
        "    mode='markers+text',\n",
        "    marker=dict(size=12, color='blue'),\n",
        "    text=[\"Presa de Vajont\"],\n",
        "    textposition=\"top center\",\n",
        "    name=\"Presa\"\n",
        "))\n",
        "\n",
        "# Configurar diseño del gráfico\n",
        "fig.update_layout(\n",
        "    title=\"Modelo Digital del Terreno con Marcador de la Presa\",\n",
        "    scene=dict(\n",
        "        xaxis_title=\"Coordenada X\",\n",
        "        yaxis_title=\"Coordenada Y\",\n",
        "        zaxis_title=\"Elevación Z\"\n",
        "    )\n",
        ")\n",
        "\n",
        "# Mostrar el modelo actualizado\n",
        "fig.show()\n"
      ],
      "metadata": {
        "id": "8qMzmOJpxSWk"
      },
      "execution_count": null,
      "outputs": []
    },
    {
      "cell_type": "code",
      "source": [
        "import plotly.graph_objects as go\n",
        "\n",
        "# Crear el modelo 3D\n",
        "fig = go.Figure()\n",
        "\n",
        "# Superficie del terreno\n",
        "fig.add_trace(go.Surface(\n",
        "    z=grid_z,\n",
        "    x=grid_x,\n",
        "    y=grid_y,\n",
        "    colorscale='Viridis',\n",
        "    colorbar=dict(title=\"Elevación Z (metros)\")\n",
        "))\n",
        "\n",
        "# Proyección en planta (curvas de nivel)\n",
        "fig.add_trace(go.Contour(\n",
        "    z=grid_z,\n",
        "    x=grid_x[0],\n",
        "    y=grid_y[:, 0],\n",
        "    contours=dict(\n",
        "        coloring=\"lines\",\n",
        "        showlabels=True,\n",
        "        labelfont=dict(size=10, color=\"black\")\n",
        "    ),\n",
        "    line=dict(smoothing=0.85),\n",
        "    name=\"Curvas de Nivel\"\n",
        "))\n",
        "\n",
        "# Configurar título y diseño\n",
        "fig.update_layout(\n",
        "    title=\"Modelo Digital del Terreno con Perfil y Curvas de Nivel\",\n",
        "    scene=dict(\n",
        "        xaxis_title=\"Coordenada X\",\n",
        "        yaxis_title=\"Coordenada Y\",\n",
        "        zaxis_title=\"Elevación Z\"\n",
        "    )\n",
        ")\n",
        "\n",
        "# Mostrar el modelo\n",
        "fig.show()\n"
      ],
      "metadata": {
        "id": "YJ6RHhRRaYmG"
      },
      "execution_count": null,
      "outputs": []
    },
    {
      "cell_type": "code",
      "source": [
        "# Crear un gráfico adicional para la sección\n",
        "import matplotlib.pyplot as plt\n",
        "\n",
        "# Generar una sección a lo largo del eje Y en un valor fijo de X (por ejemplo, el centro del modelo)\n",
        "indice_x = len(grid_x) // 2  # Corte en el centro\n",
        "seccion_y = grid_y[:, 0]  # Valores en el eje Y\n",
        "seccion_z = grid_z[:, indice_x]  # Perfil de elevación correspondiente\n",
        "\n",
        "# Graficar el perfil de elevación\n",
        "plt.figure(figsize=(10, 6))\n",
        "plt.plot(seccion_y, seccion_z, label=\"Perfil Topográfico\")\n",
        "plt.xlabel(\"Coordenada Y\")\n",
        "plt.ylabel(\"Elevación Z\")\n",
        "plt.title(\"Perfil Topográfico (Sección en X)\")\n",
        "plt.grid(True)\n",
        "plt.legend()\n",
        "plt.show()\n"
      ],
      "metadata": {
        "id": "Q6TwojOQhzgy"
      },
      "execution_count": null,
      "outputs": []
    },
    {
      "cell_type": "code",
      "source": [
        "from ipywidgets import interact\n",
        "\n",
        "# Función para actualizar el perfil dinámicamente\n",
        "def actualizar_perfil(x_index=0):\n",
        "    plt.figure(figsize=(10, 6))\n",
        "    seccion_y = grid_y[:, 0]  # Valores en el eje Y\n",
        "    seccion_z = grid_z[:, x_index]  # Perfil dinámico\n",
        "    plt.plot(seccion_y, seccion_z, label=f\"Perfil en X={grid_x[0, x_index]:.2f}\")\n",
        "    plt.xlabel(\"Coordenada Y\")\n",
        "    plt.ylabel(\"Elevación Z\")\n",
        "    plt.title(f\"Perfil Topográfico Dinámico (X={grid_x[0, x_index]:.2f})\")\n",
        "    plt.grid(True)\n",
        "    plt.legend()\n",
        "    plt.show()\n",
        "\n",
        "# Control interactivo\n",
        "interact(actualizar_perfil, x_index=(0, grid_x.shape[1] - 1, 1))\n"
      ],
      "metadata": {
        "id": "Nw_dH3nTh22i"
      },
      "execution_count": null,
      "outputs": []
    },
    {
      "cell_type": "code",
      "source": [
        "# Añadir curvas de nivel al modelo\n",
        "fig.add_trace(go.Contour(\n",
        "    z=grid_z[0],  # Primer plano Z (en proyección XY)\n",
        "    x=grid_x[0],\n",
        "    y=grid_y[:, 0],\n",
        "    contours=dict(showlabels=True, labelfont=dict(size=10, color='black')),\n",
        "    colorscale=\"Viridis\",\n",
        "    line_width=2,\n",
        "    colorbar=dict(title=\"Elevación (Z)\")\n",
        "))\n",
        "\n",
        "# Actualizar el diseño para las curvas\n",
        "fig.update_layout(\n",
        "    title=\"Modelo Digital del Terreno con Curvas de Nivel\",\n",
        "    scene=dict(\n",
        "        xaxis_title=\"Coordenada X\",\n",
        "        yaxis_title=\"Coordenada Y\",\n",
        "        zaxis_title=\"Elevación Z\"\n",
        "    )\n",
        ")\n",
        "\n",
        "# Mostrar el modelo actualizado\n",
        "fig.show()\n"
      ],
      "metadata": {
        "id": "-bVEPzqZiH7B"
      },
      "execution_count": null,
      "outputs": []
    },
    {
      "cell_type": "code",
      "source": [
        "!pip install dash\n"
      ],
      "metadata": {
        "id": "qJA_Kg9niNqC"
      },
      "execution_count": null,
      "outputs": []
    },
    {
      "cell_type": "code",
      "source": [
        "from dash import Dash, dcc, html, Input, Output\n",
        "import plotly.express as px\n",
        "\n",
        "# Crear la aplicación Dash\n",
        "app = Dash(__name__)\n",
        "\n",
        "# Figura 3D inicial\n",
        "fig_3d = go.Figure()\n",
        "\n",
        "fig_3d.add_trace(go.Surface(\n",
        "    z=grid_z,\n",
        "    x=grid_x,\n",
        "    y=grid_y,\n",
        "    colorscale=\"Viridis\",\n",
        "    colorbar=dict(title=\"Elevación Z (metros)\")\n",
        "))\n",
        "\n",
        "fig_3d.update_layout(\n",
        "    title=\"Modelo Digital del Terreno (Interactivo)\",\n",
        "    scene=dict(\n",
        "        xaxis_title=\"Coordenada X\",\n",
        "        yaxis_title=\"Coordenada Y\",\n",
        "        zaxis_title=\"Elevación Z\"\n",
        "    )\n",
        ")\n",
        "\n",
        "# Diseño de la aplicación\n",
        "app.layout = html.Div([\n",
        "    html.Div([\n",
        "        dcc.Graph(\n",
        "            id=\"modelo-3d\",\n",
        "            figure=fig_3d\n",
        "        )\n",
        "    ], style={\"width\": \"70%\", \"display\": \"inline-block\"}),\n",
        "\n",
        "    html.Div([\n",
        "        dcc.Graph(id=\"perfil-dinamico\")\n",
        "    ], style={\"width\": \"30%\", \"display\": \"inline-block\", \"verticalAlign\": \"top\"})\n",
        "])\n",
        "\n",
        "\n",
        "# Callback para generar el perfil dinámico\n",
        "@app.callback(\n",
        "    Output(\"perfil-dinamico\", \"figure\"),\n",
        "    Input(\"modelo-3d\", \"hoverData\")  # Detectar el movimiento del mouse\n",
        ")\n",
        "def actualizar_perfil(hover_data):\n",
        "    if hover_data:\n",
        "        # Extraer las coordenadas del punto donde está el mouse\n",
        "        x_hover = hover_data[\"points\"][0][\"x\"]\n",
        "        y_hover = hover_data[\"points\"][0][\"y\"]\n",
        "\n",
        "        # Encontrar la fila correspondiente en la malla\n",
        "        idx_x = (np.abs(grid_x[0] - x_hover)).argmin()\n",
        "        idx_y = (np.abs(grid_y[:, 0] - y_hover)).argmin()\n",
        "\n",
        "        # Generar el perfil\n",
        "        perfil_x = grid_x[:, idx_y]  # Fila de X en la malla\n",
        "        perfil_z = grid_z[:, idx_y]  # Elevación Z correspondiente\n",
        "\n",
        "        # Crear la figura del perfil\n",
        "        fig_perfil = px.line(\n",
        "            x=perfil_x,\n",
        "            y=perfil_z,\n",
        "            labels={\"x\": \"Coordenada X\", \"y\": \"Elevación Z\"},\n",
        "            title=\"Perfil de Elevación (XY)\"\n",
        "        )\n",
        "        return fig_perfil\n",
        "\n",
        "    # Si no hay datos del mouse, devolver una figura vacía\n",
        "    return px.line(title=\"Pase el mouse sobre el modelo para ver el perfil\")\n",
        "\n",
        "\n",
        "# Ejecutar la aplicación\n",
        "if __name__ == \"__main__\":\n",
        "    app.run_server(debug=True, use_reloader=False)\n"
      ],
      "metadata": {
        "id": "T7E2ZCYXiUVv"
      },
      "execution_count": null,
      "outputs": []
    },
    {
      "cell_type": "code",
      "source": [
        "from dash import Dash, dcc, html, Input, Output\n",
        "import plotly.express as px\n",
        "import plotly.graph_objects as go\n",
        "import numpy as np\n"
      ],
      "metadata": {
        "id": "0xtok7i6llgE"
      },
      "execution_count": null,
      "outputs": []
    },
    {
      "cell_type": "code",
      "source": [
        "# Crear la aplicación Dash\n",
        "app = Dash(__name__)\n"
      ],
      "metadata": {
        "id": "Rs8AjN0llr7T"
      },
      "execution_count": null,
      "outputs": []
    },
    {
      "cell_type": "code",
      "source": [
        "# Figura 3D inicial\n",
        "fig_3d = go.Figure()\n",
        "\n",
        "fig_3d.add_trace(go.Surface(\n",
        "    z=grid_z,\n",
        "    x=grid_x,\n",
        "    y=grid_y,\n",
        "    colorscale=\"Viridis\",\n",
        "    colorbar=dict(title=\"Elevación Z (metros)\")\n",
        "))\n",
        "\n",
        "fig_3d.update_layout(\n",
        "    title=\"Modelo Digital del Terreno (Interactivo)\",\n",
        "    scene=dict(\n",
        "        xaxis_title=\"Coordenada X\",\n",
        "        yaxis_title=\"Coordenada Y\",\n",
        "        zaxis_title=\"Elevación Z\"\n",
        "    )\n",
        ")\n"
      ],
      "metadata": {
        "id": "xp1T7lO1lzQp"
      },
      "execution_count": null,
      "outputs": []
    },
    {
      "cell_type": "code",
      "source": [
        "# Diseño de la aplicación\n",
        "app.layout = html.Div([\n",
        "    html.Div([\n",
        "        dcc.Graph(\n",
        "            id=\"modelo-3d\",\n",
        "            figure=fig_3d\n",
        "        )\n",
        "    ], style={\"width\": \"70%\", \"display\": \"inline-block\"}),\n",
        "\n",
        "    html.Div([\n",
        "        dcc.Graph(id=\"perfil-dinamico\")\n",
        "    ], style={\"width\": \"30%\", \"display\": \"inline-block\", \"verticalAlign\": \"top\"})\n",
        "])\n"
      ],
      "metadata": {
        "id": "xd-Qe8rIl7Vr"
      },
      "execution_count": null,
      "outputs": []
    },
    {
      "cell_type": "code",
      "source": [
        "# Callback para generar el perfil dinámico\n",
        "@app.callback(\n",
        "    Output(\"perfil-dinamico\", \"figure\"),\n",
        "    Input(\"modelo-3d\", \"hoverData\")  # Detectar el movimiento del mouse\n",
        ")\n",
        "def actualizar_perfil(hover_data):\n",
        "    if hover_data:\n",
        "        # Extraer las coordenadas del punto donde está el mouse\n",
        "        x_hover = hover_data[\"points\"][0][\"x\"]\n",
        "        y_hover = hover_data[\"points\"][0][\"y\"]\n",
        "\n",
        "        # Encontrar la fila correspondiente en la malla\n",
        "        idx_x = (np.abs(grid_x[0] - x_hover)).argmin()\n",
        "        idx_y = (np.abs(grid_y[:, 0] - y_hover)).argmin()\n",
        "\n",
        "        # Generar el perfil\n",
        "        perfil_x = grid_x[:, idx_y]  # Fila de X en la malla\n",
        "        perfil_z = grid_z[:, idx_y]  # Elevación Z correspondiente\n",
        "\n",
        "        # Crear la figura del perfil\n",
        "        fig_perfil = px.line(\n",
        "            x=perfil_x,\n",
        "            y=perfil_z,\n",
        "            labels={\"x\": \"Coordenada X\", \"y\": \"Elevación Z\"},\n",
        "            title=\"Perfil de Elevación (XY)\"\n",
        "        )\n",
        "        return fig_perfil\n",
        "\n",
        "    # Si no hay datos del mouse, devolver una figura vacía\n",
        "    return px.line(title=\"Pase el mouse sobre el modelo para ver el perfil\")\n"
      ],
      "metadata": {
        "id": "eZAi1TuemAxP"
      },
      "execution_count": null,
      "outputs": []
    },
    {
      "cell_type": "code",
      "source": [
        "# Ejecutar la aplicación\n",
        "if __name__ == \"__main__\":\n",
        "    app.run_server(debug=True, use_reloader=False)\n"
      ],
      "metadata": {
        "id": "2rgP0rb9mH68"
      },
      "execution_count": null,
      "outputs": []
    },
    {
      "cell_type": "code",
      "source": [
        "@app.callback(\n",
        "    Output(\"perfil-dinamico\", \"figure\"),\n",
        "    Input(\"modelo-3d\", \"hoverData\")  # Detectar el movimiento del mouse\n",
        ")\n",
        "def actualizar_perfil(hover_data):\n",
        "    if hover_data:\n",
        "        # Extraer las coordenadas del punto donde está el mouse\n",
        "        x_hover = hover_data[\"points\"][0][\"x\"]\n",
        "\n",
        "        # Encontrar la columna correspondiente en la malla\n",
        "        idx_x = (np.abs(grid_x[0] - x_hover)).argmin()\n",
        "\n",
        "        # Generar la sección topográfica a lo largo del eje Y\n",
        "        perfil_y = grid_y[:, 0]  # Coordenadas en Y\n",
        "        perfil_z = grid_z[:, idx_x]  # Elevación Z correspondiente a la sección\n",
        "\n",
        "        # Crear el gráfico del perfil\n",
        "        fig_perfil = px.line(\n",
        "            x=perfil_y,\n",
        "            y=perfil_z,\n",
        "            labels={\"x\": \"Coordenada Y\", \"y\": \"Elevación Z\"},\n",
        "            title=\"Perfil Topográfico (Sección en X)\"\n",
        "        )\n",
        "        return fig_perfil\n",
        "\n",
        "    # Si no hay datos del mouse, devolver una figura vacía\n",
        "    return px.line(title=\"Pase el mouse sobre el modelo para ver el perfil\")\n"
      ],
      "metadata": {
        "id": "bxlrP7HDnM1d"
      },
      "execution_count": null,
      "outputs": []
    },
    {
      "cell_type": "code",
      "source": [
        "# prompt: continuar con el anteriro y corregir el error buscar en github una solucion\n",
        "\n",
        "import pandas as pd\n",
        "import numpy as np\n",
        "import matplotlib.pyplot as plt\n",
        "import seaborn as sns\n",
        "from mpl_toolkits.mplot3d import Axes3D\n",
        "from scipy.optimize import curve_fit\n",
        "import shutil\n",
        "import os\n",
        "import py7zr\n",
        "from scipy.interpolate import griddata\n",
        "import plotly.graph_objects as go\n",
        "from ipywidgets import interact\n",
        "from dash import Dash, dcc, html, Input, Output\n",
        "import plotly.express as px\n",
        "\n",
        "# ... (Your existing code for data loading and preprocessing) ...\n",
        "\n",
        "# Assuming 'grid_x', 'grid_y', and 'grid_z' are defined\n",
        "\n",
        "# Coordenadas ajustadas de la presa (ajusta estos valores según tus datos)\n",
        "presa_x = grid_x[-1, -1]  # Último valor en X (extremo derecho del modelo)\n",
        "presa_y = grid_y[-1, -1]  # Último valor en Y (extremo superior del modelo)\n",
        "presa_z = grid_z[-1, -1] + 50  # Elevado ligeramente para visibilidad\n",
        "\n",
        "\n",
        "# Crear figura interactiva\n",
        "fig = go.Figure()\n",
        "\n",
        "# Añadir superficie del terreno\n",
        "fig.add_trace(go.Surface(\n",
        "    z=grid_z,\n",
        "    x=grid_x,\n",
        "    y=grid_y,\n",
        "    colorscale='Viridis',\n",
        "    colorbar=dict(title=\"Elevación Z (metros)\")\n",
        "))\n",
        "\n",
        "# Añadir un único marcador para la presa\n",
        "fig.add_trace(go.Scatter3d(\n",
        "    x=[presa_x],\n",
        "    y=[presa_y],\n",
        "    z=[presa_z],\n",
        "    mode='markers+text',\n",
        "    marker=dict(size=12, color='blue'),\n",
        "    text=[\"Presa de Vajont\"],\n",
        "    textposition=\"top center\",\n",
        "    name=\"Presa\"\n",
        "))\n",
        "\n",
        "# Configurar el diseño\n",
        "fig.update_layout(\n",
        "    title=\"Modelo Digital del Terreno con la Presa de Vajont\",\n",
        "    scene=dict(\n",
        "        xaxis_title=\"Coordenada X\",\n",
        "        yaxis_title=\"Coordenada Y\",\n",
        "        zaxis_title=\"Elevación Z\"\n",
        "    )\n",
        ")\n",
        "\n",
        "# Mostrar el modelo\n",
        "fig.show()\n",
        "\n",
        "\n",
        "# ... (Rest of your code for profile generation and interactive plot)\n",
        "\n",
        "# Crear la aplicación Dash (corrección de la ejecución de Dash en Colab)\n",
        "app = Dash(__name__, external_stylesheets=['https://codepen.io/chriddyp/pen/bWLwgP.css'])\n",
        "\n",
        "# ... (Your existing Dash app layout and callback code)\n",
        "\n",
        "# Ejecutar la aplicación (modificado para Colab)\n",
        "if __name__ == '__main__':\n",
        "    app.run_server(mode='inline', debug=True) # 'inline' es esencial en Google Colab"
      ],
      "metadata": {
        "id": "yAwdYMZqnc0_"
      },
      "execution_count": null,
      "outputs": []
    },
    {
      "cell_type": "code",
      "source": [
        "# Crear las mallas grid_x, grid_y, y grid_z usando la interpolación\n",
        "from scipy.interpolate import griddata\n",
        "\n",
        "grid_x, grid_y = np.meshgrid(\n",
        "    np.linspace(dtm_data['X'].min(), dtm_data['X'].max(), 100),\n",
        "    np.linspace(dtm_data['Y'].min(), dtm_data['Y'].max(), 100)\n",
        ")\n",
        "\n",
        "grid_z = griddata(\n",
        "    (dtm_data['X'], dtm_data['Y']),\n",
        "    dtm_data['Z'],\n",
        "    (grid_x, grid_y),\n",
        "    method='linear'\n",
        ")\n"
      ],
      "metadata": {
        "id": "12CScEBYo5mt"
      },
      "execution_count": null,
      "outputs": []
    },
    {
      "cell_type": "code",
      "source": [
        "# Instalar las dependencias necesarias\n",
        "!pip install jupyter-dash dash plotly pandas numpy scipy\n",
        "\n",
        "# Importar las bibliotecas requeridas\n",
        "import pandas as pd\n",
        "import numpy as np\n",
        "from scipy.interpolate import griddata\n",
        "import plotly.graph_objects as go\n",
        "import plotly.express as px\n",
        "from jupyter_dash import JupyterDash\n",
        "from dash import dcc, html, Input, Output\n",
        "\n",
        "# Suponiendo que tienes un DataFrame llamado 'dtm_data' con columnas 'X', 'Y' y 'Z'\n",
        "\n",
        "# Crear la grilla para el modelo digital del terreno\n",
        "grid_x, grid_y = np.meshgrid(\n",
        "    np.linspace(dtm_data['X'].min(), dtm_data['X'].max(), 100),\n",
        "    np.linspace(dtm_data['Y'].min(), dtm_data['Y'].max(), 100)\n",
        ")\n",
        "\n",
        "grid_z = griddata(\n",
        "    (dtm_data['X'], dtm_data['Y']),\n",
        "    dtm_data['Z'],\n",
        "    (grid_x, grid_y),\n",
        "    method='linear'\n",
        ")\n",
        "\n",
        "# Crear la figura interactiva 3D con Plotly\n",
        "fig_3d = go.Figure()\n",
        "\n",
        "fig_3d.add_trace(go.Surface(\n",
        "    z=grid_z,\n",
        "    x=grid_x,\n",
        "    y=grid_y,\n",
        "    colorscale=\"Viridis\",\n",
        "    colorbar=dict(title=\"Elevación Z (metros)\")\n",
        "))\n",
        "\n",
        "fig_3d.update_layout(\n",
        "    title=\"Modelo Digital del Terreno (Interactivo)\",\n",
        "    scene=dict(\n",
        "        xaxis_title=\"Coordenada X\",\n",
        "        yaxis_title=\"Coordenada Y\",\n",
        "        zaxis_title=\"Elevación Z\"\n",
        "    )\n",
        ")\n",
        "\n",
        "# Crear la aplicación Dash\n",
        "app = JupyterDash(__name__)\n",
        "\n",
        "# Diseño de la aplicación\n",
        "app.layout = html.Div([\n",
        "    html.Div([\n",
        "        dcc.Graph(\n",
        "            id=\"modelo-3d\",\n",
        "            figure=fig_3d\n",
        "        )\n",
        "    ], style={\"width\": \"70%\", \"display\": \"inline-block\"}),\n",
        "\n",
        "    html.Div([\n",
        "        dcc.Graph(id=\"perfil-dinamico\")\n",
        "    ], style={\"width\": \"30%\", \"display\": \"inline-block\", \"verticalAlign\": \"top\"})\n",
        "])\n",
        "\n",
        "# Callback para actualizar el perfil dinámico\n",
        "@app.callback(\n",
        "    Output(\"perfil-dinamico\", \"figure\"),\n",
        "    Input(\"modelo-3d\", \"hoverData\")\n",
        ")\n",
        "def actualizar_perfil(hover_data):\n",
        "    if hover_data:\n",
        "        # Extraer las coordenadas del punto donde se encuentra el mouse\n",
        "        x_hover = hover_data[\"points\"][0][\"x\"]\n",
        "        y_hover = hover_data[\"points\"][0][\"y\"]\n",
        "\n",
        "        # Encontrar los índices más cercanos en la grilla\n",
        "        idx_x = (np.abs(grid_x[0, :] - x_hover)).argmin()\n",
        "        idx_y = (np.abs(grid_y[:, 0] - y_hover)).argmin()\n",
        "\n",
        "        # Generar el perfil topográfico\n",
        "        perfil_x = grid_x[idx_y, :]\n",
        "        perfil_z = grid_z[idx_y, :]\n",
        "\n",
        "        # Crear la figura del perfil\n",
        "        fig_perfil = px.line(\n",
        "            x=perfil_x,\n",
        "            y=perfil_z,\n",
        "            labels={\"x\": \"Coordenada X\", \"y\": \"Elevación Z\"},\n",
        "            title=\"Perfil de Elevación (Sección en Y)\"\n",
        "        )\n",
        "        return fig_perfil\n",
        "\n",
        "    # Si no hay datos del mouse, devolver una figura vacía\n",
        "    return px.line(title=\"Pase el mouse sobre el modelo para ver el perfil\")\n",
        "\n",
        "# Ejecutar la aplicación Dash\n",
        "app.run_server(mode='inline', debug=True)\n"
      ],
      "metadata": {
        "id": "I0dClTaBsYg3"
      },
      "execution_count": null,
      "outputs": []
    },
    {
      "cell_type": "code",
      "source": [
        "# Convertir las mallas en un DataFrame\n",
        "modelo_df = pd.DataFrame({\n",
        "    \"X\": grid_x.flatten(),\n",
        "    \"Y\": grid_y.flatten(),\n",
        "    \"Z\": grid_z.flatten()\n",
        "})\n",
        "\n",
        "# Guardar en un archivo CSV\n",
        "modelo_df.to_csv(\"modelo_terreno.csv\", index=False)\n",
        "print(\"Modelo guardado en 'modelo_terreno.csv'.\")\n"
      ],
      "metadata": {
        "id": "YkgjcmfVto_f"
      },
      "execution_count": null,
      "outputs": []
    },
    {
      "cell_type": "code",
      "source": [
        "# Guardar la figura interactiva como archivo HTML\n",
        "fig_3d.write_html(\"modelo_terreno_interactivo.html\")\n",
        "print(\"Modelo interactivo guardado como 'modelo_terreno_interactivo.html'.\")\n"
      ],
      "metadata": {
        "id": "VjGL4w32ttGK"
      },
      "execution_count": null,
      "outputs": []
    },
    {
      "cell_type": "code",
      "source": [
        "from dash import Dash, dcc, html, Input, Output, State\n",
        "import plotly.express as px\n",
        "import plotly.graph_objects as go\n",
        "import pandas as pd\n",
        "import numpy as np\n",
        "\n",
        "# Crear la aplicación Dash\n",
        "app = Dash(__name__)\n",
        "\n",
        "# Figura 3D inicial\n",
        "fig_3d = go.Figure()\n",
        "\n",
        "fig_3d.add_trace(go.Surface(\n",
        "    z=grid_z,\n",
        "    x=grid_x,\n",
        "    y=grid_y,\n",
        "    colorscale=\"Viridis\",\n",
        "    colorbar=dict(title=\"Elevación Z (metros)\")\n",
        "))\n",
        "\n",
        "fig_3d.update_layout(\n",
        "    title=\"Modelo Digital del Terreno (Interactivo)\",\n",
        "    scene=dict(\n",
        "        xaxis_title=\"Coordenada X\",\n",
        "        yaxis_title=\"Coordenada Y\",\n",
        "        zaxis_title=\"Elevación Z\"\n",
        "    )\n",
        ")\n",
        "\n",
        "# Diseño de la aplicación\n",
        "app.layout = html.Div([\n",
        "    html.H3(\"Pase el mouse sobre el modelo y haga clic para fijar un punto.\"),\n",
        "\n",
        "    html.Div([\n",
        "        dcc.Graph(\n",
        "            id=\"modelo-3d\",\n",
        "            figure=fig_3d,\n",
        "            config={\"clickmode\": \"event+select\"}  # Permitir clics en el modelo\n",
        "        )\n",
        "    ], style={\"width\": \"70%\", \"display\": \"inline-block\"}),\n",
        "\n",
        "    html.Div([\n",
        "        dcc.Graph(id=\"perfil-dinamico\"),\n",
        "        html.Div(id=\"propiedades-punto\", style={\"marginTop\": \"20px\"})  # Mostrar propiedades del punto\n",
        "    ], style={\"width\": \"30%\", \"display\": \"inline-block\", \"verticalAlign\": \"top\"})\n",
        "])\n",
        "\n",
        "# Callback para manejar clics en el modelo\n",
        "@app.callback(\n",
        "    [Output(\"perfil-dinamico\", \"figure\"),\n",
        "     Output(\"propiedades-punto\", \"children\")],  # Actualizar gráfico y propiedades del punto\n",
        "    [Input(\"modelo-3d\", \"clickData\")],          # Detectar clic en el modelo\n",
        "    [State(\"perfil-dinamico\", \"figure\")]        # Mantener el estado del gráfico\n",
        ")\n",
        "def fijar_punto(click_data, perfil_actual):\n",
        "    if click_data:\n",
        "        # Extraer coordenadas del punto seleccionado\n",
        "        x_click = click_data[\"points\"][0][\"x\"]\n",
        "        y_click = click_data[\"points\"][0][\"y\"]\n",
        "\n",
        "        # Buscar el índice más cercano en la malla\n",
        "        idx_x = (np.abs(grid_x[0, :] - x_click)).argmin()\n",
        "        idx_y = (np.abs(grid_y[:, 0] - y_click)).argmin()\n",
        "\n",
        "        # Generar el perfil en la dirección Y\n",
        "        perfil_x = grid_x[idx_y, :]\n",
        "        perfil_z = grid_z[idx_y, :]\n",
        "\n",
        "        # Crear el gráfico del perfil\n",
        "        fig_perfil = px.line(\n",
        "            x=perfil_x,\n",
        "            y=perfil_z,\n",
        "            labels={\"x\": \"Coordenada X\", \"y\": \"Elevación Z\"},\n",
        "            title=\"Perfil de Elevación (Sección en Y)\"\n",
        "        )\n",
        "\n",
        "        # Propiedades del punto seleccionado\n",
        "        propiedades = f\"\"\"\n",
        "        Coordenadas del Punto Fijado:\n",
        "        - X: {x_click:.2f}\n",
        "        - Y: {y_click:.2f}\n",
        "        - Z: {grid_z[idx_y, idx_x]:.2f}\n",
        "        \"\"\"\n",
        "\n",
        "        return fig_perfil, propiedades\n",
        "\n",
        "    # Si no hay clic, mostrar un mensaje inicial\n",
        "    return px.line(title=\"Pase el mouse sobre el modelo y haga clic para fijar un punto\"), \"No se ha fijado ningún punto.\"\n",
        "\n",
        "# Ejecutar la aplicación\n",
        "if __name__ == '__main__':\n",
        "    app.run_server(debug=True, use_reloader=False)\n"
      ],
      "metadata": {
        "id": "K_WAGj9VuILP"
      },
      "execution_count": null,
      "outputs": []
    }
  ]
}